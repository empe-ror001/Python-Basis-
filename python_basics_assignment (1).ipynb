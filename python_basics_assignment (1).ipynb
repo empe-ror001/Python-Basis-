{
  "cells": [
    {
      "cell_type": "markdown",
      "metadata": {
        "id": "_0PW1coFbNuf"
      },
      "source": [
        "THEORY QUESTIONS\n",
        "#1. What is Python, and why is it popular?\n",
        " -> Python is a high-level, interpreted programming language known for its clear syntax and readability. It's popular due to its simplicity, wide usage in diverse fields (web development, data science, AI), large community support, and vast library ecosystem.\n",
        "\n",
        "#2. What is an interpreter in Python?\n",
        " -> An interpreter is a program that executes Python code line by line, converting it into machine-readable format at runtime, instead of compiling the whole program at once.\n",
        "\n",
        "#3. What are pre-defined keywords in Python?\n",
        " -> Pre-defined keywords are reserved words in Python that have special meanings and functionalities, such as if, else, for, while, def, etc.\n",
        "\n",
        "#4. Can keywords be used as variable names?\n",
        " -> No, keywords cannot be used as variable names because they have predefined functions and roles in the language.\n",
        "\n",
        "#5. What is mutability in Python?\n",
        " -> Mutability refers to whether an object can be changed after it's created. Mutable objects can be modified, while immutable objects cannot.\n",
        "\n",
        "#6. Why are lists mutable, but tuples are immutable?\n",
        " ->Lists are mutable by design so elements can be added, changed, or removed, supporting dynamic programming needs. Tuples are immutable for safety, reliability, and use as keys in dictionaries.\n",
        "\n",
        "#7. What is the difference between == and is operators in Python?\n",
        "\n",
        " -> == checks if values are equal.\n",
        "\n",
        "is checks if two variables point to the same object in memory.\n",
        "\n",
        "#8. What are logical operators in Python?\n",
        " -> and, or, and not are logical operators used to combine conditional statements.\n",
        "\n",
        "#9. What is type casting in Python?\n",
        " ->Type casting is converting a variable from one datatype to another, e.g., from int to float.\n",
        "\n",
        "#10. What is the difference between implicit and explicit type casting?\n",
        "\n",
        " -> Implicit: Python automatically converts types (e.g., adding an int to a float returns a float).\n",
        "\n",
        "Explicit: Programmer manually converts types using functions like int(), float(), str(), etc.\n",
        "\n",
        "#11. What is the purpose of conditional statements in Python?\n",
        " -> Conditional statements (if, elif, else) control the flow of a program based on certain conditions.\n",
        "\n",
        "#12. How does the elif statement work?\n",
        " -> elif (else if) checks another condition if the previous if or elif condition was False. Used for multiple branching.\n",
        "\n",
        "#13. What is the difference between for and while loops?\n",
        "\n",
        " -> for: Iterates over a sequence or range.\n",
        "\n",
        "while: Repeats as long as a condition is True.\n",
        "\n",
        "#14. Describe a scenario where a while loop is more suitable than a for loop.\n",
        " -> A while loop is suitable when you do not know beforehand how many times you need to repeat (e.g., waiting for user input to be valid)."
      ]
    },
    {
      "cell_type": "code",
      "execution_count": 1,
      "metadata": {
        "id": "6XW_4KZybNuf"
      },
      "outputs": [
        {
          "name": "stdout",
          "output_type": "stream",
          "text": [
            "Hello, World!\n"
          ]
        }
      ],
      "source": [
        "#1. Write a Python program to print \"Hello, World!\"\n",
        "\n",
        "print(\"Hello, World!\")\n",
        "\n"
      ]
    },
    {
      "cell_type": "code",
      "execution_count": 2,
      "metadata": {
        "id": "DeDPiXqWbNuf"
      },
      "outputs": [
        {
          "name": "stdout",
          "output_type": "stream",
          "text": [
            "Name: Vishnu\n",
            "Age: 21\n"
          ]
        }
      ],
      "source": [
        "#2. Write a Python program that displays your name and age.\n",
        "# Display name and age\n",
        "name = \"Vishnu\"\n",
        "age = 21\n",
        "\n",
        "print(\"Name:\", name)\n",
        "print(\"Age:\", age)\n"
      ]
    },
    {
      "cell_type": "code",
      "execution_count": 3,
      "metadata": {
        "colab": {
          "base_uri": "https://localhost:8080/",
          "height": 36
        },
        "id": "aCCyycyabNuf",
        "outputId": "2e97186d-7f45-41bf-a2cf-f971267e99d2"
      },
      "outputs": [
        {
          "name": "stdout",
          "output_type": "stream",
          "text": [
            "Python Keywords:\n",
            "False\n",
            "None\n",
            "True\n",
            "and\n",
            "as\n",
            "assert\n",
            "async\n",
            "await\n",
            "break\n",
            "class\n",
            "continue\n",
            "def\n",
            "del\n",
            "elif\n",
            "else\n",
            "except\n",
            "finally\n",
            "for\n",
            "from\n",
            "global\n",
            "if\n",
            "import\n",
            "in\n",
            "is\n",
            "lambda\n",
            "nonlocal\n",
            "not\n",
            "or\n",
            "pass\n",
            "raise\n",
            "return\n",
            "try\n",
            "while\n",
            "with\n",
            "yield\n",
            "\n",
            "Total number of keywords: 35\n"
          ]
        }
      ],
      "source": [
        "#3. Write code to print all the pre-defined keywords in Python using the keyword library.\n",
        "import keyword\n",
        "\n",
        "# Get the list of Python keywords\n",
        "keywords_list = keyword.kwlist\n",
        "\n",
        "print(\"Python Keywords:\")\n",
        "for kw in keywords_list:\n",
        "    print(kw)\n",
        "\n",
        "# Print total count\n",
        "print(f\"\\nTotal number of keywords: {len(keywords_list)}\")\n"
      ]
    },
    {
      "cell_type": "code",
      "execution_count": 4,
      "metadata": {
        "colab": {
          "base_uri": "https://localhost:8080/",
          "height": 36
        },
        "id": "TlrEadHZbNuf",
        "outputId": "e5985520-6da4-438c-9de8-0c48f8c714d1"
      },
      "outputs": [
        {
          "name": "stdout",
          "output_type": "stream",
          "text": [
            "Checking the word: lambda\n",
            "'lambda' is a Python keyword.\n"
          ]
        }
      ],
      "source": [
        "#4. Write a program that checks if a given word is a Python keyword.\n",
        "import keyword\n",
        "import random\n",
        "\n",
        "# List of some random words\n",
        "random_words = [\"apple\", \"while\", \"banana\", \"lambda\", \"ocean\"]\n",
        "\n",
        "# Pick a random word from the list\n",
        "word = random.choice(random_words)\n",
        "\n",
        "print(f\"Checking the word: {word}\")\n",
        "\n",
        "# Check if the word is a Python keyword\n",
        "if keyword.iskeyword(word):\n",
        "    print(f\"'{word}' is a Python keyword.\")\n",
        "else:\n",
        "    print(f\"'{word}' is NOT a Python keyword.\")\n"
      ]
    },
    {
      "cell_type": "code",
      "execution_count": 5,
      "metadata": {
        "colab": {
          "base_uri": "https://localhost:8080/",
          "height": 53
        },
        "id": "PFLJvZN2bNuf",
        "outputId": "7b5f6ff4-66da-429a-8f28-5bd7df87f92b"
      },
      "outputs": [
        {
          "name": "stdout",
          "output_type": "stream",
          "text": [
            "Inside modify_int: 15\n",
            "List after: [1, 2, 3, 100]\n",
            "Int after: 5\n"
          ]
        }
      ],
      "source": [
        "#5. Write a function to demonstrate the behavior of mutable and immutable arguments.\n",
        "def modify_list(lst):\n",
        "    lst.append(100)  # Mutable\n",
        "\n",
        "def modify_int(n):\n",
        "    n += 10          # Immutable\n",
        "    print(\"Inside modify_int:\", n)\n",
        "\n",
        "l = [1, 2, 3]\n",
        "x = 5\n",
        "\n",
        "modify_list(l)\n",
        "modify_int(x)\n",
        "\n",
        "print(\"List after:\", l)  # Changed\n",
        "print(\"Int after:\", x)   # Unchanged\n"
      ]
    },
    {
      "cell_type": "code",
      "execution_count": null,
      "metadata": {
        "colab": {
          "base_uri": "https://localhost:8080/",
          "height": 53
        },
        "id": "ydkqvEkrbNug",
        "outputId": "83ab562f-5d06-4515-dfed-3e6496f14196"
      },
      "outputs": [],
      "source": [
        "#6. Write a program that performs basic arithmetic operations on two user-input numbers.\n",
        "\n",
        "a = float(input(\"Enter number 1: \"))\n",
        "b = float(input(\"Enter number 2: \"))\n",
        "\n",
        "print(\"Sum:\", a + b)\n",
        "print(\"Difference:\", a - b)\n",
        "print(\"Product:\", a * b)\n",
        "print(\"Quotient:\", a / b if b != 0 else \"undefined (division by zero)\")\n",
        "\n"
      ]
    },
    {
      "cell_type": "code",
      "execution_count": null,
      "metadata": {
        "colab": {
          "base_uri": "https://localhost:8080/",
          "height": 36
        },
        "id": "3Hz9pZXdbNug",
        "outputId": "d4a8abc9-1367-4efb-ae21-ca5cc0e288a8"
      },
      "outputs": [
        {
          "data": {
            "application/vnd.google.colaboratory.intrinsic+json": {
              "type": "string"
            },
            "text/plain": [
              "'\\na = 5\\nb = 10\\nprint(a > 2 and b < 20)   # True\\nprint(a == 5 or b == 0)   # True\\nprint(not(a == b))        # True\\n\\n'"
            ]
          },
          "execution_count": 9,
          "metadata": {},
          "output_type": "execute_result"
        }
      ],
      "source": [
        "#7. Write a program to demonstrate the use of logical operators.\n",
        "\n",
        "a = 5\n",
        "b = 10\n",
        "print(a > 2 and b < 20)   # True\n",
        "print(a == 5 or b == 0)   # True\n",
        "print(not(a == b))        # True\n",
        "\n"
      ]
    },
    {
      "cell_type": "code",
      "execution_count": null,
      "metadata": {
        "colab": {
          "base_uri": "https://localhost:8080/",
          "height": 53
        },
        "id": "vuFeGpJwbNug",
        "outputId": "0388c3d9-04c9-469f-8bde-64853c013fdf"
      },
      "outputs": [
        {
          "data": {
            "application/vnd.google.colaboratory.intrinsic+json": {
              "type": "string"
            },
            "text/plain": [
              "'\\nlst = [1, 2, 3]\\ntup = (1, 2, 3)\\n\\nlst[0] = 100    # Allowed\\nprint(\"Modified list:\", lst)\\n\\ntry:\\n    tup[0] = 100   # Not allowed, will raise error\\nexcept TypeError as e:\\n    print(\"Error when modifying tuple:\", e)\\n\\n'"
            ]
          },
          "execution_count": 10,
          "metadata": {},
          "output_type": "execute_result"
        }
      ],
      "source": [
        "#8.Create a list and tuple in Python, and demonstrate how attempting to change an element works differently for each.\n",
        "lst = [1, 2, 3]\n",
        "tup = (1, 2, 3)\n",
        "\n",
        "lst[0] = 100    # Allowed\n",
        "print(\"Modified list:\", lst)\n",
        "\n",
        "try:\n",
        "    tup[0] = 100   # Not allowed, will raise error\n",
        "except TypeError as e:\n",
        "    print(\"Error when modifying tuple:\", e)\n"
      ]
    },
    {
      "cell_type": "code",
      "execution_count": null,
      "metadata": {
        "colab": {
          "base_uri": "https://localhost:8080/",
          "height": 36
        },
        "id": "CM2y2XP4bNug",
        "outputId": "e62074c8-8b1b-4ebc-a9df-d93126bea61c"
      },
      "outputs": [
        {
          "data": {
            "application/vnd.google.colaboratory.intrinsic+json": {
              "type": "string"
            },
            "text/plain": [
              "'\\ns = input(\"Enter something: \")\\nprint(\"As string:\", s)\\nprint(\"As integer:\", int(s))\\nprint(\"As float:\", float(s))\\nprint(\"As boolean:\", bool(s))\\n\\n'"
            ]
          },
          "execution_count": 11,
          "metadata": {},
          "output_type": "execute_result"
        }
      ],
      "source": [
        "#9. Write a Python program to convert user input from string to integer, float, and boolean types.\n",
        "\n",
        "s = input(\"Enter something: \")\n",
        "print(\"As string:\", s)\n",
        "print(\"As integer:\", int(s))\n",
        "print(\"As float:\", float(s))\n",
        "print(\"As boolean:\", bool(s))\n",
        "\n",
        "\n",
        "\n"
      ]
    },
    {
      "cell_type": "code",
      "execution_count": null,
      "metadata": {
        "colab": {
          "base_uri": "https://localhost:8080/",
          "height": 36
        },
        "id": "vTCtAFPZh2PJ",
        "outputId": "d2bae7ea-0275-40e3-95e7-bf1b233edb77"
      },
      "outputs": [
        {
          "data": {
            "application/vnd.google.colaboratory.intrinsic+json": {
              "type": "string"
            },
            "text/plain": [
              "'\\nlst = [\"1\", \"2\", \"3\"]\\nint_lst = list(map(int, lst))\\nprint(\"List after casting to integers:\", int_lst)\\n\\n'"
            ]
          },
          "execution_count": 12,
          "metadata": {},
          "output_type": "execute_result"
        }
      ],
      "source": [
        "#10. Write code to demonstrate type casting with list elements.\n",
        "\n",
        "lst = [\"1\", \"2\", \"3\"]\n",
        "int_lst = list(map(int, lst))\n",
        "print(\"List after casting to integers:\", int_lst)\n"
      ]
    },
    {
      "cell_type": "code",
      "execution_count": null,
      "metadata": {
        "colab": {
          "base_uri": "https://localhost:8080/",
          "height": 36
        },
        "id": "ncObmkG5h_cd",
        "outputId": "b0dd3052-3b12-403a-db12-288ffacc7040"
      },
      "outputs": [
        {
          "data": {
            "application/vnd.google.colaboratory.intrinsic+json": {
              "type": "string"
            },
            "text/plain": [
              "'\\nn = float(input(\"Enter a number: \"))\\nif n > 0:\\n    print(\"Positive\")\\nelif n < 0:\\n    print(\"Negative\")\\nelse:\\n    print(\"Zero\")\\n\\n'"
            ]
          },
          "execution_count": 13,
          "metadata": {},
          "output_type": "execute_result"
        }
      ],
      "source": [
        "#11. Write a program that checks if a number is positive, negative, or zero.\n",
        "\n",
        "n = float(input(\"Enter a number: \"))\n",
        "if n > 0:\n",
        "    print(\"Positive\")\n",
        "elif n < 0:\n",
        "    print(\"Negative\")\n",
        "else:\n",
        "    print(\"Zero\")\n",
        "\n"
      ]
    },
    {
      "cell_type": "code",
      "execution_count": null,
      "metadata": {
        "colab": {
          "base_uri": "https://localhost:8080/",
          "height": 36
        },
        "id": "kNfSq_7niHBk",
        "outputId": "3853d8ae-5771-4cb6-c50f-434470c32599"
      },
      "outputs": [
        {
          "data": {
            "application/vnd.google.colaboratory.intrinsic+json": {
              "type": "string"
            },
            "text/plain": [
              "'\\nfor i in range(1, 11):\\n    print(i)\\n\\n'"
            ]
          },
          "execution_count": 14,
          "metadata": {},
          "output_type": "execute_result"
        }
      ],
      "source": [
        "#12. Write a for loop to print numbers from 1 to 10.\n",
        "\n",
        "for i in range(1, 11):\n",
        "    print(i)\n",
        "\n"
      ]
    },
    {
      "cell_type": "code",
      "execution_count": null,
      "metadata": {
        "colab": {
          "base_uri": "https://localhost:8080/",
          "height": 36
        },
        "id": "74p94pZdiOrf",
        "outputId": "f210b5b8-54f4-4d7c-d989-544b3fc1848f"
      },
      "outputs": [
        {
          "data": {
            "application/vnd.google.colaboratory.intrinsic+json": {
              "type": "string"
            },
            "text/plain": [
              "'\\ntotal = 0\\nfor i in range(2, 51, 2):\\n    total += i\\nprint(\"Sum of even numbers between 1 and 50:\", total)\\n\\n'"
            ]
          },
          "execution_count": 15,
          "metadata": {},
          "output_type": "execute_result"
        }
      ],
      "source": [
        "#13. Write a Python program to find the sum of all even numbers between 1 and 50.\n",
        "\n",
        "total = 0\n",
        "for i in range(2, 51, 2):\n",
        "    total += i\n",
        "print(\"Sum of even numbers between 1 and 50:\", total)\n",
        "\n"
      ]
    },
    {
      "cell_type": "code",
      "execution_count": null,
      "metadata": {
        "colab": {
          "base_uri": "https://localhost:8080/",
          "height": 36
        },
        "id": "m0uCMY3JiYeR",
        "outputId": "68bcc4d3-2016-450d-895e-449047a93287"
      },
      "outputs": [
        {
          "data": {
            "application/vnd.google.colaboratory.intrinsic+json": {
              "type": "string"
            },
            "text/plain": [
              "'\\ns = input(\"Enter a string: \")\\nreversed_s = \\'\\'\\ni = len(s) - 1\\nwhile i >= 0:\\n    reversed_s += s[i]\\n    i -= 1\\nprint(\"Reversed string:\", reversed_s)\\n\\n'"
            ]
          },
          "execution_count": 16,
          "metadata": {},
          "output_type": "execute_result"
        }
      ],
      "source": [
        "#14. Write a program to reverse a string using a while loop.\n",
        "\n",
        "s = input(\"Enter a string: \")\n",
        "reversed_s = ''\n",
        "i = len(s) - 1\n",
        "while i >= 0:\n",
        "    reversed_s += s[i]\n",
        "    i -= 1\n",
        "print(\"Reversed string:\", reversed_s)\n",
        "\n"
      ]
    },
    {
      "cell_type": "code",
      "execution_count": null,
      "metadata": {
        "id": "GfiVpSpyieFG"
      },
      "outputs": [],
      "source": [
        "#15. Write a Python program to calculate the factorial of a number provided by the user using a while loop.\n",
        "\n",
        "n = int(input(\"Enter a number: \"))\n",
        "factorial = 1\n",
        "i = 1\n",
        "while i <= n:\n",
        "    factorial *= i\n",
        "    i += 1\n",
        "print(\"Factorial:\", factorial)\n"
      ]
    }
  ],
  "metadata": {
    "colab": {
      "provenance": []
    },
    "kernelspec": {
      "display_name": "Python 3",
      "language": "python",
      "name": "python3"
    },
    "language_info": {
      "codemirror_mode": {
        "name": "ipython",
        "version": 3
      },
      "file_extension": ".py",
      "mimetype": "text/x-python",
      "name": "python",
      "nbconvert_exporter": "python",
      "pygments_lexer": "ipython3",
      "version": "3.13.1"
    }
  },
  "nbformat": 4,
  "nbformat_minor": 0
}
